{
 "cells": [
  {
   "cell_type": "markdown",
   "metadata": {},
   "source": [
    "# Listing of libraries"
   ]
  },
  {
   "cell_type": "code",
   "execution_count": 11,
   "metadata": {},
   "outputs": [],
   "source": [
    "import csv\n",
    "import pandas as pd\n",
    "import numpy as np\n",
    "import ast\n",
    "import json\n",
    "import seaborn as sns; sns.set()\n",
    "%matplotlib inline\n",
    "import matplotlib.pyplot as plt\n",
    "\n"
   ]
  },
  {
   "cell_type": "markdown",
   "metadata": {},
   "source": [
    "# Extracting features"
   ]
  },
  {
   "cell_type": "code",
   "execution_count": 12,
   "metadata": {
    "collapsed": true
   },
   "outputs": [],
   "source": [
    "with open('/Users/shruti6991/Desktop/523 project/saxs.csv', newline='') as csvfile:\n",
    "    rawdata = pd.read_csv(csvfile)\n",
    "    dataframe = pd.DataFrame(rawdata, columns = ['item','sample','metadata_extract','linecut_qr'])\n",
    "    itemdata = dataframe['item']\n",
    "    sampledata = dataframe['sample']\n",
    "    itemdata = itemdata.str.split('_', expand=True)\n",
    "    featuredata = pd.DataFrame(itemdata)\n",
    "    featuredata.columns = ['type', 'name','theta','annealing_time','annealing_temperature','time','sequenceid','8','9','10','11','12']\n",
    "    featuredata = featuredata.drop(labels=['8','9','10','11','12'], axis=1)"
   ]
  },
  {
   "cell_type": "markdown",
   "metadata": {},
   "source": [
    "# Extraction of linecut_qr features"
   ]
  },
  {
   "cell_type": "code",
   "execution_count": 13,
   "metadata": {},
   "outputs": [
    {
     "name": "stdout",
     "output_type": "stream",
     "text": [
      "(5535, 1)\n",
      "(1801, 1)\n"
     ]
    }
   ],
   "source": [
    "linecutfeatures = pd.DataFrame(dataframe['linecut_qr'])\n",
    "print(linecutfeatures.shape)\n",
    "linecutfeatures = linecutfeatures.dropna()\n",
    "linecutfeatures.to_csv('/Users/shruti6991/Desktop/523 project/linecutfeature.csv',index = False)\n",
    "print(linecutfeatures.shape)\n",
    "newDF = pd.DataFrame()"
   ]
  },
  {
   "cell_type": "markdown",
   "metadata": {},
   "source": [
    "# Dropping down NULL value samples"
   ]
  },
  {
   "cell_type": "code",
   "execution_count": 14,
   "metadata": {},
   "outputs": [
    {
     "name": "stdout",
     "output_type": "stream",
     "text": [
      "(1801, 1)\n"
     ]
    }
   ],
   "source": [
    "newDF['samplename'] = sampledata\n",
    "newDF['linecutfeatures'] = linecutfeatures\n",
    "newDF = newDF.dropna()\n",
    "newDF = newDF.drop('linecutfeatures',axis = 1)\n",
    "print(newDF.shape)\n",
    "\n"
   ]
  },
  {
   "cell_type": "markdown",
   "metadata": {},
   "source": [
    "# 8 recorded features as written below"
   ]
  },
  {
   "cell_type": "code",
   "execution_count": 15,
   "metadata": {},
   "outputs": [
    {
     "name": "stdout",
     "output_type": "stream",
     "text": [
      "(1801, 1)\n"
     ]
    }
   ],
   "source": [
    "print(newDF.shape)\n",
    "fit_peaks_prefactor1 = []\n",
    "fit_peaks_d0 = []\n",
    "fit_peaks_chi_squared = []\n",
    "fit_peaks_grain_size = []\n",
    "fit_peaks_sigma1 = []\n",
    "fit_peaks_prefactor_total = []\n",
    "fit_peaks_x_center1 = []\n",
    "totaltime = []\n",
    "\n",
    "with open('/Users/shruti6991/Desktop/523 project/linecutfeature.csv', newline='') as csvfile:    \n",
    "    rawdata = pd.read_csv(csvfile)\n",
    "    x = rawdata['linecut_qr']\n",
    "    for row in x:\n",
    "        d = eval(row)\n",
    "        #print(d)\n",
    "        #print(row)\n",
    "        fit_peaks_prefactor1.append(d['data']['fit_peaks_prefactor1'])\n",
    "        fit_peaks_d0.append(d['data']['fit_peaks_d0'])\n",
    "        fit_peaks_chi_squared.append(d['data']['fit_peaks_chi_squared'])\n",
    "        fit_peaks_grain_size.append(d['data']['fit_peaks_grain_size'])\n",
    "        fit_peaks_sigma1.append(d['data']['fit_peaks_sigma1'])\n",
    "        fit_peaks_prefactor_total.append(d['data']['fit_peaks_prefactor_total'])\n",
    "        fit_peaks_x_center1.append(d['data']['fit_peaks_x_center1'])\n",
    "        totaltime.append(d['time'])"
   ]
  },
  {
   "cell_type": "code",
   "execution_count": 16,
   "metadata": {},
   "outputs": [],
   "source": [
    "newDF['fit_peaks_prefactor1'] = fit_peaks_prefactor1\n",
    "newDF['fit_peaks_d0'] = fit_peaks_d0\n",
    "newDF['fit_peaks_chi_squared'] = fit_peaks_chi_squared\n",
    "newDF['fit_peaks_grain_size'] = fit_peaks_grain_size\n",
    "newDF['fit_peaks_sigma1'] = fit_peaks_sigma1\n",
    "newDF['fit_peaks_prefactor_total'] = fit_peaks_prefactor_total\n",
    "newDF['fit_peaks_x_center1'] = fit_peaks_x_center1\n",
    "newDF['totaltime'] = totaltime\n"
   ]
  },
  {
   "cell_type": "markdown",
   "metadata": {},
   "source": [
    "# Saving the feature table in CSV file"
   ]
  },
  {
   "cell_type": "code",
   "execution_count": 17,
   "metadata": {
    "scrolled": true
   },
   "outputs": [
    {
     "name": "stdout",
     "output_type": "stream",
     "text": [
      "(1801, 9)\n"
     ]
    }
   ],
   "source": [
    "print(newDF.shape)\n",
    "newDF.to_csv('/Users/shruti6991/Desktop/523 project/feature.csv',index = False)\n"
   ]
  },
  {
   "cell_type": "markdown",
   "metadata": {},
   "source": [
    "# Calculating pearson cofficient"
   ]
  },
  {
   "cell_type": "code",
   "execution_count": 18,
   "metadata": {},
   "outputs": [
    {
     "data": {
      "text/html": [
       "<div>\n",
       "<style>\n",
       "    .dataframe thead tr:only-child th {\n",
       "        text-align: right;\n",
       "    }\n",
       "\n",
       "    .dataframe thead th {\n",
       "        text-align: left;\n",
       "    }\n",
       "\n",
       "    .dataframe tbody tr th {\n",
       "        vertical-align: top;\n",
       "    }\n",
       "</style>\n",
       "<table border=\"1\" class=\"dataframe\">\n",
       "  <thead>\n",
       "    <tr style=\"text-align: right;\">\n",
       "      <th></th>\n",
       "      <th>fit_peaks_prefactor1</th>\n",
       "      <th>fit_peaks_d0</th>\n",
       "      <th>fit_peaks_chi_squared</th>\n",
       "      <th>fit_peaks_grain_size</th>\n",
       "      <th>fit_peaks_sigma1</th>\n",
       "      <th>fit_peaks_prefactor_total</th>\n",
       "      <th>fit_peaks_x_center1</th>\n",
       "      <th>totaltime</th>\n",
       "    </tr>\n",
       "  </thead>\n",
       "  <tbody>\n",
       "    <tr>\n",
       "      <th>fit_peaks_prefactor1</th>\n",
       "      <td>1.000000</td>\n",
       "      <td>0.139317</td>\n",
       "      <td>0.861440</td>\n",
       "      <td>-0.027424</td>\n",
       "      <td>-0.117009</td>\n",
       "      <td>1.000000</td>\n",
       "      <td>-0.186629</td>\n",
       "      <td>0.113061</td>\n",
       "    </tr>\n",
       "    <tr>\n",
       "      <th>fit_peaks_d0</th>\n",
       "      <td>0.139317</td>\n",
       "      <td>1.000000</td>\n",
       "      <td>0.082506</td>\n",
       "      <td>0.093955</td>\n",
       "      <td>-0.376172</td>\n",
       "      <td>0.139317</td>\n",
       "      <td>-0.979439</td>\n",
       "      <td>0.315798</td>\n",
       "    </tr>\n",
       "    <tr>\n",
       "      <th>fit_peaks_chi_squared</th>\n",
       "      <td>0.861440</td>\n",
       "      <td>0.082506</td>\n",
       "      <td>1.000000</td>\n",
       "      <td>-0.036262</td>\n",
       "      <td>-0.044783</td>\n",
       "      <td>0.861440</td>\n",
       "      <td>-0.106279</td>\n",
       "      <td>0.066662</td>\n",
       "    </tr>\n",
       "    <tr>\n",
       "      <th>fit_peaks_grain_size</th>\n",
       "      <td>-0.027424</td>\n",
       "      <td>0.093955</td>\n",
       "      <td>-0.036262</td>\n",
       "      <td>1.000000</td>\n",
       "      <td>-0.583211</td>\n",
       "      <td>-0.027424</td>\n",
       "      <td>-0.095292</td>\n",
       "      <td>0.085386</td>\n",
       "    </tr>\n",
       "    <tr>\n",
       "      <th>fit_peaks_sigma1</th>\n",
       "      <td>-0.117009</td>\n",
       "      <td>-0.376172</td>\n",
       "      <td>-0.044783</td>\n",
       "      <td>-0.583211</td>\n",
       "      <td>1.000000</td>\n",
       "      <td>-0.117009</td>\n",
       "      <td>0.434814</td>\n",
       "      <td>-0.160148</td>\n",
       "    </tr>\n",
       "    <tr>\n",
       "      <th>fit_peaks_prefactor_total</th>\n",
       "      <td>1.000000</td>\n",
       "      <td>0.139317</td>\n",
       "      <td>0.861440</td>\n",
       "      <td>-0.027424</td>\n",
       "      <td>-0.117009</td>\n",
       "      <td>1.000000</td>\n",
       "      <td>-0.186629</td>\n",
       "      <td>0.113061</td>\n",
       "    </tr>\n",
       "    <tr>\n",
       "      <th>fit_peaks_x_center1</th>\n",
       "      <td>-0.186629</td>\n",
       "      <td>-0.979439</td>\n",
       "      <td>-0.106279</td>\n",
       "      <td>-0.095292</td>\n",
       "      <td>0.434814</td>\n",
       "      <td>-0.186629</td>\n",
       "      <td>1.000000</td>\n",
       "      <td>-0.344780</td>\n",
       "    </tr>\n",
       "    <tr>\n",
       "      <th>totaltime</th>\n",
       "      <td>0.113061</td>\n",
       "      <td>0.315798</td>\n",
       "      <td>0.066662</td>\n",
       "      <td>0.085386</td>\n",
       "      <td>-0.160148</td>\n",
       "      <td>0.113061</td>\n",
       "      <td>-0.344780</td>\n",
       "      <td>1.000000</td>\n",
       "    </tr>\n",
       "  </tbody>\n",
       "</table>\n",
       "</div>"
      ],
      "text/plain": [
       "                           fit_peaks_prefactor1  fit_peaks_d0  \\\n",
       "fit_peaks_prefactor1                   1.000000      0.139317   \n",
       "fit_peaks_d0                           0.139317      1.000000   \n",
       "fit_peaks_chi_squared                  0.861440      0.082506   \n",
       "fit_peaks_grain_size                  -0.027424      0.093955   \n",
       "fit_peaks_sigma1                      -0.117009     -0.376172   \n",
       "fit_peaks_prefactor_total              1.000000      0.139317   \n",
       "fit_peaks_x_center1                   -0.186629     -0.979439   \n",
       "totaltime                              0.113061      0.315798   \n",
       "\n",
       "                           fit_peaks_chi_squared  fit_peaks_grain_size  \\\n",
       "fit_peaks_prefactor1                    0.861440             -0.027424   \n",
       "fit_peaks_d0                            0.082506              0.093955   \n",
       "fit_peaks_chi_squared                   1.000000             -0.036262   \n",
       "fit_peaks_grain_size                   -0.036262              1.000000   \n",
       "fit_peaks_sigma1                       -0.044783             -0.583211   \n",
       "fit_peaks_prefactor_total               0.861440             -0.027424   \n",
       "fit_peaks_x_center1                    -0.106279             -0.095292   \n",
       "totaltime                               0.066662              0.085386   \n",
       "\n",
       "                           fit_peaks_sigma1  fit_peaks_prefactor_total  \\\n",
       "fit_peaks_prefactor1              -0.117009                   1.000000   \n",
       "fit_peaks_d0                      -0.376172                   0.139317   \n",
       "fit_peaks_chi_squared             -0.044783                   0.861440   \n",
       "fit_peaks_grain_size              -0.583211                  -0.027424   \n",
       "fit_peaks_sigma1                   1.000000                  -0.117009   \n",
       "fit_peaks_prefactor_total         -0.117009                   1.000000   \n",
       "fit_peaks_x_center1                0.434814                  -0.186629   \n",
       "totaltime                         -0.160148                   0.113061   \n",
       "\n",
       "                           fit_peaks_x_center1  totaltime  \n",
       "fit_peaks_prefactor1                 -0.186629   0.113061  \n",
       "fit_peaks_d0                         -0.979439   0.315798  \n",
       "fit_peaks_chi_squared                -0.106279   0.066662  \n",
       "fit_peaks_grain_size                 -0.095292   0.085386  \n",
       "fit_peaks_sigma1                      0.434814  -0.160148  \n",
       "fit_peaks_prefactor_total            -0.186629   0.113061  \n",
       "fit_peaks_x_center1                   1.000000  -0.344780  \n",
       "totaltime                            -0.344780   1.000000  "
      ]
     },
     "execution_count": 18,
     "metadata": {},
     "output_type": "execute_result"
    }
   ],
   "source": [
    "newDF.corr(method='pearson', min_periods=1)\n"
   ]
  },
  {
   "cell_type": "markdown",
   "metadata": {},
   "source": [
    "# Plotting HeatMap"
   ]
  },
  {
   "cell_type": "code",
   "execution_count": 24,
   "metadata": {},
   "outputs": [
    {
     "data": {
      "text/plain": [
       "<matplotlib.axes._subplots.AxesSubplot at 0x11b7fc080>"
      ]
     },
     "execution_count": 24,
     "metadata": {},
     "output_type": "execute_result"
    },
    {
     "data": {
      "image/png": "[encoded data removed]",
      "text/plain": [
       "<matplotlib.figure.Figure at 0x11b80cda0>"
      ]
     },
     "metadata": {},
     "output_type": "display_data"
    }
   ],
   "source": [
    "corr = newDF.corr()\n",
    "fig, ax = plt.subplots(figsize=(10,10)) \n",
    "sns.heatmap(corr,ax = ax)"
   ]
  },
  {
   "cell_type": "code",
   "execution_count": null,
   "metadata": {
    "collapsed": true
   },
   "outputs": [],
   "source": []
  },
  {
   "cell_type": "code",
   "execution_count": null,
   "metadata": {
    "collapsed": true
   },
   "outputs": [],
   "source": []
  }
 ],
 "metadata": {
  "kernelspec": {
   "display_name": "Python 3",
   "language": "python",
   "name": "python3"
  },
  "language_info": {
   "codemirror_mode": {
    "name": "ipython",
    "version": 3
   },
   "file_extension": ".py",
   "mimetype": "text/x-python",
   "name": "python",
   "nbconvert_exporter": "python",
   "pygments_lexer": "ipython3",
   "version": "3.6.1"
  }
 },
 "nbformat": 4,
 "nbformat_minor": 2
}
